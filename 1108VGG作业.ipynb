{
  "cells": [
    {
      "cell_type": "raw",
      "metadata": {
        "pycharm": {}
      },
      "source": [
        "# 实验一\n",
        "加载预定义VGG16网络参数，并在Kaggle猫/狗数据集上进行微调和测试"
      ]
    },
    {
      "cell_type": "markdown",
      "metadata": {
        "pycharm": {}
      },
      "source": [
        "## 1.加载keras模块"
      ]
    },
    {
      "cell_type": "code",
      "execution_count": 8,
      "metadata": {
        "pycharm": {}
      },
      "outputs": [],
      "source": [
        "from keras.preprocessing.image import ImageDataGenerator\n",
        "from keras.models import Sequential\n",
        "from keras.layers import Convolution2D, MaxPooling2D,ZeroPadding2D\n",
        "from keras.layers import Activation, Dropout, Flatten, Dense, Input\n",
        "from keras.utils import to_categorical\n",
        "from keras.preprocessing.image import img_to_array\n",
        "from keras.applications.vgg16 import preprocess_input, VGG16\n",
        "from keras import backend as K\n",
        "import numpy as np"
      ]
    },
    {
      "cell_type": "markdown",
      "metadata": {
        "pycharm": {}
      },
      "source": [
        "### 加载预训练权值\n",
        "\n"
      ]
    },
    {
      "cell_type": "markdown",
      "metadata": {
        "pycharm": {}
      },
      "source": [
        "### 定义新加入的layers"
      ]
    },
    {
      "cell_type": "code",
      "execution_count": 9,
      "metadata": {
        "pycharm": {}
      },
      "outputs": [],
      "source": [
        "img_width, img_height \u003d 150, 150\n",
        "if K.image_data_format() \u003d\u003d \u0027channels_first\u0027:\n",
        "    input_shape \u003d (3, img_width, img_height)\n",
        "else:\n",
        "    input_shape \u003d (img_width, img_height, 3)\n",
        "    \n",
        "# 定义网络输入层shape\n",
        "\n",
        "#声明VGG网络，并指定加载imagenet预训练模型\n",
        "\n",
        "#向VGG网络追加一些全连接层和输出层\n",
        "\n",
        "#指定输出层为2个神经元做2分类，激活函数选用softmax\n",
        "\n",
        "\n",
        "#把上述网络每一层layer拷贝至一个新的网络，形成一个整体网络\n"
      ]
    },
    {
      "cell_type": "markdown",
      "metadata": {
        "pycharm": {}
      },
      "source": [
        "### 设置不需微调的layers的trainable属性\n",
        "并调用compile函数重新编译网络"
      ]
    },
    {
      "cell_type": "code",
      "execution_count": 10,
      "metadata": {
        "pycharm": {}
      },
      "outputs": [],
      "source": [
        "from keras.optimizers import SGD\n",
        "#在新的整体网络上设置对所有原VGG层均不参与微调\n",
        "\n",
        "\n",
        "#compile the model with a SGD/momentum optimizer\n",
        "# and a very slow learning rate.\n",
        "#注意此处应选用何种loss function"
      ]
    },
    {
      "cell_type": "markdown",
      "metadata": {
        "pycharm": {}
      },
      "source": [
        "### 定义ImageDataGenerator\n"
      ]
    },
    {
      "cell_type": "code",
      "execution_count": 11,
      "metadata": {
        "pycharm": {}
      },
      "outputs": [
        {
          "name": "stdout",
          "output_type": "stream",
          "text": [
            "Found 10835 images belonging to 2 classes.\n",
            "Found 4000 images belonging to 2 classes.\n"
          ]
        }
      ],
      "source": "train_data_dir \u003d r\u0027B:/pycharm/project/AI/11.6/dogs-vs-cats/train\u0027\nvalidation_data_dir \u003d r\u0027B:/pycharm/project/AI/11.6/dogs-vs-cats/validation\u0027\nnb_train_samples \u003d 10835\nnb_validation_samples \u003d 4000\nepochs \u003d 1\nbatch_size \u003d 20\n\n\n# this is the augmentation configuration we will use for training\ntrain_datagen \u003d ImageDataGenerator(\n    rescale\u003d1. / 255,\n    shear_range\u003d0.2,\n    zoom_range\u003d0.2,\n    horizontal_flip\u003dTrue)\n\n# this is the augmentation configuration we will use for testing:\n# only rescaling\ntest_datagen \u003d ImageDataGenerator(rescale\u003d1. / 255)\n#此处调用flow_from_directory函数生成train_generator和validation_generator,注意设置class_mode\n\n\n"
    },
    {
      "cell_type": "markdown",
      "metadata": {
        "pycharm": {}
      },
      "source": [
        "### 训练模型\n",
        "\n"
      ]
    },
    {
      "cell_type": "code",
      "execution_count": 12,
      "metadata": {
        "scrolled": false,
        "pycharm": {}
      },
      "outputs": [
        {
          "name": "stdout",
          "output_type": "stream",
          "text": [
            "Epoch 1/1\n",
            "541/541 [\u003d\u003d\u003d\u003d\u003d\u003d\u003d\u003d\u003d\u003d\u003d\u003d\u003d\u003d\u003d\u003d\u003d\u003d\u003d\u003d\u003d\u003d\u003d\u003d\u003d\u003d\u003d\u003d\u003d\u003d] - 253s 467ms/step - loss: 0.3200 - accuracy: 0.8505 - val_loss: 0.1355 - val_accuracy: 0.9337\n"
          ]
        },
        {
          "data": {
            "text/plain": [
              "\u003ckeras.callbacks.callbacks.History at 0x1e0d921ff28\u003e"
            ]
          },
          "execution_count": 12,
          "metadata": {},
          "output_type": "execute_result"
        }
      ],
      "source": [
        "new_model.fit_generator(\n",
        "    train_generator,\n",
        "    steps_per_epoch\u003dnb_train_samples // batch_size,\n",
        "    epochs\u003depochs,\n",
        "    validation_data\u003dvalidation_generator,\n",
        "    validation_steps\u003dnb_validation_samples // batch_size)"
      ]
    },
    {
      "cell_type": "markdown",
      "metadata": {
        "pycharm": {}
      },
      "source": [
        "### 使用训练后模型预测图像\n",
        "\n",
        "\n",
        "\n"
      ]
    },
    {
      "cell_type": "code",
      "execution_count": 16,
      "metadata": {
        "pycharm": {}
      },
      "outputs": [
        {
          "name": "stdout",
          "output_type": "stream",
          "text": [
            "[[0. 1.]]\n"
          ]
        }
      ],
      "source": "import cv2\nimg \u003d cv2.resize(cv2.imread(r\u0027B:/pycharm/project/AI/11.6/dogs-vs-cats/test/136.jpg\u0027), (img_width, img_height)).astype(np.float32)\n# img[:,:,0] -\u003d 103.939\n# img[:,:,1] -\u003d 116.779\n# img[:,:,2] -\u003d 123.68\n#img \u003d img.transpose((2,0,1))\nx \u003d img_to_array(img)\n\nx \u003d np.expand_dims(x, axis\u003d0)\n\n#x \u003d preprocess_input(x)\n\nscore \u003d new_model.predict(x)\n\n\nprint(score)"
    },
    {
      "cell_type": "markdown",
      "metadata": {
        "pycharm": {}
      },
      "source": [
        "###此处尝试只锁定VGG头四层"
      ]
    },
    {
      "cell_type": "code",
      "execution_count": null,
      "metadata": {
        "pycharm": {}
      },
      "outputs": [],
      "source": [
        "#在新的整体网络上设置原VGG前四层不参与微调\n",
        "\n",
        "\n",
        "#编译网络后进行训练\n",
        "\n"
      ]
    },
    {
      "cell_type": "code",
      "execution_count": null,
      "metadata": {
        "pycharm": {}
      },
      "outputs": [],
      "source": [
        "#使用训练后模型预测图像\n",
        "\n"
      ]
    }
  ],
  "metadata": {
    "kernelspec": {
      "display_name": "Python 3",
      "language": "python",
      "name": "python3"
    },
    "language_info": {
      "codemirror_mode": {
        "name": "ipython",
        "version": 3
      },
      "file_extension": ".py",
      "mimetype": "text/x-python",
      "name": "python",
      "nbconvert_exporter": "python",
      "pygments_lexer": "ipython3",
      "version": "3.6.8"
    },
    "ssap_exp_config": {
      "error_alert": "Error Occurs!",
      "initial": [],
      "max_iteration": 1000,
      "recv_id": "",
      "running": [],
      "summary": [],
      "version": "1.1.1"
    }
  },
  "nbformat": 4,
  "nbformat_minor": 1
}